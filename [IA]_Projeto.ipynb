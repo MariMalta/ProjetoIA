{
  "nbformat": 4,
  "nbformat_minor": 0,
  "metadata": {
    "colab": {
      "name": "[IA] Projeto.ipynb",
      "provenance": [],
      "collapsed_sections": [
        "gSVoKQHOHrY8",
        "MHe4WwLvJa4F",
        "LYtDdoEzOdue",
        "x553aIymOoIJ",
        "t2fqonXB2anY",
        "REzgUZLF2q6d",
        "7nTqwd5K3ba2"
      ],
      "toc_visible": true,
      "mount_file_id": "149akDL6_CpanU5BuusKbp4Fftqy61KNb",
      "authorship_tag": "ABX9TyNR6ePrvER3MnYKeSj2S1nC",
      "include_colab_link": true
    },
    "kernelspec": {
      "name": "python3",
      "display_name": "Python 3"
    }
  },
  "cells": [
    {
      "cell_type": "markdown",
      "metadata": {
        "id": "view-in-github",
        "colab_type": "text"
      },
      "source": [
        "<a href=\"https://colab.research.google.com/github/seltong/ProjetoIA/blob/main/%5BIA%5D_Projeto.ipynb\" target=\"_parent\"><img src=\"https://colab.research.google.com/assets/colab-badge.svg\" alt=\"Open In Colab\"/></a>"
      ]
    },
    {
      "cell_type": "markdown",
      "metadata": {
        "id": "gSVoKQHOHrY8"
      },
      "source": [
        "#Dicionários"
      ]
    },
    {
      "cell_type": "code",
      "metadata": {
        "id": "-E0A3HVmHeI1"
      },
      "source": [
        "# Dicionário para o documento 279:\n",
        "keys279 = ['TERMOS RECORRENTES', 'UTI', 'UNIDADE DE TERAPIA INTENSIVA',\n",
        "          'CENTRAL', 'REGULAÇÃO', 'LEITOS', 'SENHA', 'UPA', 'SÚMULA 51']\n",
        "\n",
        "# Dicionário para o documento 500218:\n",
        "keys500218 = ['TERMOS RECORRENTES', 'UTI', 'UNIDADE DE TERAPIA INTENSIVA',\n",
        "             'CENTRAL', 'REGULAÇÃO', 'LEITOS', 'SENHA', 'UPA', 'SÚMULA 51', \n",
        "             'DANO(S)', 'MORAL', 'MORAIS']"
      ],
      "execution_count": 9,
      "outputs": []
    },
    {
      "cell_type": "markdown",
      "metadata": {
        "id": "MHe4WwLvJa4F"
      },
      "source": [
        "#Bibliotecas\n"
      ]
    },
    {
      "cell_type": "code",
      "metadata": {
        "id": "-62Jf4j0fspT"
      },
      "source": [
        "import os, os.path\n",
        "import numpy"
      ],
      "execution_count": 96,
      "outputs": []
    },
    {
      "cell_type": "markdown",
      "metadata": {
        "id": "LYtDdoEzOdue"
      },
      "source": [
        "#Abrindo os arquivos"
      ]
    },
    {
      "cell_type": "code",
      "metadata": {
        "id": "akaJ1yqNs106",
        "outputId": "6408cccc-77cc-42f0-e641-3bc89aa9438c",
        "colab": {
          "base_uri": "https://localhost:8080/"
        }
      },
      "source": [
        "pathProject = './drive/Shared drives/2020.3 - Inteligência Artificial/Projeto/'\n",
        "pathDoc279 = 'Documentos 279/'\n",
        "pathDoc500218 = 'Documentos 500218/'\n",
        "docName = '° encriptado.txt'\n",
        "\n",
        "# Counting number of files and folders in a directory\n",
        "def countFilesAndFolders(dir):\n",
        "  path, dirs, files = next(os.walk(dir))\n",
        "  return (len(path), len(dirs), len(files))\n",
        "\n",
        "def getFiles(dir, fileName, fileType):\n",
        "  pathlen, dirslen, fileslen = countFilesAndFolders(dir)\n",
        "  listOfFiles = []\n",
        "  for i in range(0, fileslen):\n",
        "    file = open(dir + str(i + 1) + fileName, 'r')\n",
        "    listOfFiles.append({'file': file, 'type': fileType})\n",
        "  return listOfFiles\n",
        "\n",
        "listOfFiles = getFiles(pathProject + pathDoc279, docName, 'A')\n",
        "listOfFiles += getFiles(pathProject + pathDoc500218, docName, 'B')\n",
        "\n",
        "listOfFiles"
      ],
      "execution_count": 172,
      "outputs": [
        {
          "output_type": "execute_result",
          "data": {
            "text/plain": [
              "[{'file': <_io.TextIOWrapper name='./drive/Shared drives/2020.3 - Inteligência Artificial/Projeto/Documentos 279/1° encriptado.txt' mode='r' encoding='UTF-8'>,\n",
              "  'type': 'A'},\n",
              " {'file': <_io.TextIOWrapper name='./drive/Shared drives/2020.3 - Inteligência Artificial/Projeto/Documentos 279/2° encriptado.txt' mode='r' encoding='UTF-8'>,\n",
              "  'type': 'A'},\n",
              " {'file': <_io.TextIOWrapper name='./drive/Shared drives/2020.3 - Inteligência Artificial/Projeto/Documentos 500218/1° encriptado.txt' mode='r' encoding='UTF-8'>,\n",
              "  'type': 'B'}]"
            ]
          },
          "metadata": {
            "tags": []
          },
          "execution_count": 172
        }
      ]
    },
    {
      "cell_type": "markdown",
      "metadata": {
        "id": "x553aIymOoIJ"
      },
      "source": [
        "#Extraindo as palavras chaves dos arquivos"
      ]
    },
    {
      "cell_type": "code",
      "metadata": {
        "id": "0dbIMu_0N-di"
      },
      "source": [
        "def getKeysContainedInFile(file_lines):\n",
        "  # Get the keys contained in the file\n",
        "  keysContained = [key for line in file_lines for key in keys500218 if key in line]\n",
        "  return keysContained"
      ],
      "execution_count": 173,
      "outputs": []
    },
    {
      "cell_type": "code",
      "metadata": {
        "id": "8482uyN6rfyj",
        "outputId": "debe46da-56ae-4871-f5d7-2ce91a008c43",
        "colab": {
          "base_uri": "https://localhost:8080/"
        }
      },
      "source": [
        "lenListOfFiles = len(listOfFiles)\n",
        "listOfKeysContainedInEachFile = [\n",
        "  getKeysContainedInFile(listOfFiles[i]['file'].readlines()) for i in range(0, lenListOfFiles)\n",
        "]\n",
        "\n",
        "listOfKeysContainedInEachFile"
      ],
      "execution_count": 174,
      "outputs": [
        {
          "output_type": "execute_result",
          "data": {
            "text/plain": [
              "[['UTI', 'UTI', 'UTI'], ['UPA', 'CENTRAL', 'REGULAÇÃO'], []]"
            ]
          },
          "metadata": {
            "tags": []
          },
          "execution_count": 174
        }
      ]
    },
    {
      "cell_type": "markdown",
      "metadata": {
        "id": "t2fqonXB2anY"
      },
      "source": [
        "# Definindo variáveis globais"
      ]
    },
    {
      "cell_type": "code",
      "metadata": {
        "id": "nN17T2AmN4fo"
      },
      "source": [
        "# Creating a variable to save the analysis result\n",
        "result = {\n",
        "  'words_in_files': [],\n",
        "  'words_appear': []\n",
        "}"
      ],
      "execution_count": 175,
      "outputs": []
    },
    {
      "cell_type": "markdown",
      "metadata": {
        "id": "REzgUZLF2q6d"
      },
      "source": [
        "#Contando quantas vezes cada palavra chave apareceu em cada arquivo"
      ]
    },
    {
      "cell_type": "code",
      "metadata": {
        "id": "f8wDRy6N5Dza"
      },
      "source": [
        "# Counting how much the words has appeared\n",
        "def CountWordsAppear(listOfWords, fileType):\n",
        "  newDictionary = {\n",
        "    'TERMOS RECORRENTES': 0, 'UTI': 0,\n",
        "    'UNIDADE DE TERAPIA INTENSIVA': 0, 'CENTRAL': 0,\n",
        "    'REGULAÇÃO': 0, 'LEITOS': 0, 'SENHA': 0, 'UPA': 0,\n",
        "    'SÚMULA 51': 0, 'DANO(S)': 0, 'MORAL': 0, 'MORAIS': 0,\n",
        "    'FILE_TYPE': fileType\n",
        "  }\n",
        "\n",
        "  for i in listOfWords:\n",
        "    newDictionary[i] += 1\n",
        "\n",
        "  return newDictionary"
      ],
      "execution_count": 176,
      "outputs": []
    },
    {
      "cell_type": "code",
      "metadata": {
        "id": "cCHs6ZtNdhFI",
        "outputId": "bfe4103a-8d89-41bf-e6b7-b623c5ef9c81",
        "colab": {
          "base_uri": "https://localhost:8080/"
        }
      },
      "source": [
        "listPositions = range(0, len(listOfKeysContainedInEachFile))\n",
        "fileType = lambda i: listOfFiles[i]['type']\n",
        "result['words_appear'] = [\n",
        "  CountWordsAppear(listOfKeysContainedInEachFile[i], fileType(i)) for i in listPositions\n",
        "]\n",
        "  \n",
        "\n",
        "result['words_appear']"
      ],
      "execution_count": 177,
      "outputs": [
        {
          "output_type": "execute_result",
          "data": {
            "text/plain": [
              "[{'CENTRAL': 0,\n",
              "  'DANO(S)': 0,\n",
              "  'FILE_TYPE': 'A',\n",
              "  'LEITOS': 0,\n",
              "  'MORAIS': 0,\n",
              "  'MORAL': 0,\n",
              "  'REGULAÇÃO': 0,\n",
              "  'SENHA': 0,\n",
              "  'SÚMULA 51': 0,\n",
              "  'TERMOS RECORRENTES': 0,\n",
              "  'UNIDADE DE TERAPIA INTENSIVA': 0,\n",
              "  'UPA': 0,\n",
              "  'UTI': 3},\n",
              " {'CENTRAL': 1,\n",
              "  'DANO(S)': 0,\n",
              "  'FILE_TYPE': 'A',\n",
              "  'LEITOS': 0,\n",
              "  'MORAIS': 0,\n",
              "  'MORAL': 0,\n",
              "  'REGULAÇÃO': 1,\n",
              "  'SENHA': 0,\n",
              "  'SÚMULA 51': 0,\n",
              "  'TERMOS RECORRENTES': 0,\n",
              "  'UNIDADE DE TERAPIA INTENSIVA': 0,\n",
              "  'UPA': 1,\n",
              "  'UTI': 0},\n",
              " {'CENTRAL': 0,\n",
              "  'DANO(S)': 0,\n",
              "  'FILE_TYPE': 'B',\n",
              "  'LEITOS': 0,\n",
              "  'MORAIS': 0,\n",
              "  'MORAL': 0,\n",
              "  'REGULAÇÃO': 0,\n",
              "  'SENHA': 0,\n",
              "  'SÚMULA 51': 0,\n",
              "  'TERMOS RECORRENTES': 0,\n",
              "  'UNIDADE DE TERAPIA INTENSIVA': 0,\n",
              "  'UPA': 0,\n",
              "  'UTI': 0}]"
            ]
          },
          "metadata": {
            "tags": []
          },
          "execution_count": 177
        }
      ]
    },
    {
      "cell_type": "markdown",
      "metadata": {
        "id": "7nTqwd5K3ba2"
      },
      "source": [
        "#Verificando quais palavras apareceram no arquivo e quais não apareceram"
      ]
    },
    {
      "cell_type": "code",
      "metadata": {
        "id": "XygubBd2fZfL",
        "outputId": "9998c5b6-a9d7-499f-bb71-087efc0d9f48",
        "colab": {
          "base_uri": "https://localhost:8080/"
        }
      },
      "source": [
        "# Creating a array with a boolean value to each words.\n",
        "# If the word has appear at least one time, the value is 1.\n",
        "# Otherwise, the value is 0.\n",
        "\n",
        "for i in result['words_appear']:\n",
        "  lisOfWordsAppearItems = list(i.items())\n",
        "\n",
        "  result['words_in_files'].append(\n",
        "      [item[1] if type(item[1]) == str else 1 if item[1] > 0 else 0  for item in lisOfWordsAppearItems]\n",
        "  )\n",
        "\n",
        "result['words_in_files']"
      ],
      "execution_count": 178,
      "outputs": [
        {
          "output_type": "execute_result",
          "data": {
            "text/plain": [
              "[[0, 1, 0, 0, 0, 0, 0, 0, 0, 0, 0, 0, 'A'],\n",
              " [0, 0, 0, 1, 1, 0, 0, 1, 0, 0, 0, 0, 'A'],\n",
              " [0, 0, 0, 0, 0, 0, 0, 0, 0, 0, 0, 0, 'B']]"
            ]
          },
          "metadata": {
            "tags": []
          },
          "execution_count": 178
        }
      ]
    }
  ]
}